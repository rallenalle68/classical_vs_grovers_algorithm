{
 "cells": [
  {
   "cell_type": "markdown",
   "metadata": {},
   "source": [
    "### Importing necessary Modules for database and name generation"
   ]
  },
  {
   "cell_type": "code",
   "execution_count": 3,
   "metadata": {},
   "outputs": [],
   "source": [
    "from pymongo import MongoClient\n",
    "import random\n",
    "import string\n",
    "import time\n",
    "import matplotlib.pyplot as plt\n",
    "import numpy as np\n",
    "import seaborn as sns\n",
    "import pandas as pd\n",
    "from scipy.stats import mannwhitneyu\n",
    "\n"
   ]
  },
  {
   "cell_type": "markdown",
   "metadata": {},
   "source": [
    "#### Connecting to the mongodb on standard localhost \n",
    "\n",
    "This code connects to the user_info_db database and retrieves the user_info collection\n"
   ]
  },
  {
   "cell_type": "code",
   "execution_count": 4,
   "metadata": {},
   "outputs": [],
   "source": [
    "# Connect to MongoDB (default host and port: localhost:27017)\n",
    "client = MongoClient('mongodb://localhost:27017/')\n",
    "# Create or access the 'user_info_db' database\n",
    "db = client['user_info_db']"
   ]
  },
  {
   "cell_type": "markdown",
   "metadata": {},
   "source": [
    "Initializing the collections used\n",
    "\n"
   ]
  },
  {
   "cell_type": "code",
   "execution_count": 5,
   "metadata": {},
   "outputs": [],
   "source": [
    "collection_50 = db['user_info_50']\n",
    "collection_500 = db['user_info_500']\n",
    "collection_5000 = db['user_info_5000']\n",
    "\n",
    "classical_search_50 = db['classical_search_50']\n",
    "classical_search_500 = db['classical_search_500']\n",
    "classical_search_5000 = db['classical_search_5000']\n",
    "\n",
    "\n",
    "grover_search_50 = db['grover_search_50']  \n",
    "grover_search_500 = db['grover_search_500']\n",
    "grover_search_5000 = db['grover_search_5000']\n"
   ]
  },
  {
   "cell_type": "markdown",
   "metadata": {},
   "source": [
    "Helper function to generate names"
   ]
  },
  {
   "cell_type": "code",
   "execution_count": 6,
   "metadata": {},
   "outputs": [],
   "source": [
    "def generate_random_name(length=6):\n",
    "    \"\"\"Generate a random name of a specified length\"\"\"\n",
    "    return ''.join(random.choices(string.ascii_uppercase, k=length))"
   ]
  },
  {
   "cell_type": "markdown",
   "metadata": {},
   "source": [
    "### All collection insertions"
   ]
  },
  {
   "cell_type": "code",
   "execution_count": 7,
   "metadata": {},
   "outputs": [
    {
     "name": "stdout",
     "output_type": "stream",
     "text": [
      "Inserted 50 names into user_info_50.\n",
      "Inserted 500 names into user_info_500.\n",
      "Inserted 5000 names into user_info_5000.\n"
     ]
    }
   ],
   "source": [
    "# Insertion function for 'user_info_50'\n",
    "def insert_user_info_50():\n",
    "    collection_50.delete_many({})  # Clear any existing data\n",
    "    names_50 = [{\"name\": generate_random_name()} for _ in range(50)]\n",
    "    collection_50.insert_many(names_50)\n",
    "    print(\"Inserted 50 names into user_info_50.\")\n",
    "\n",
    "# Insertion function for 'user_info_500'\n",
    "def insert_user_info_500():\n",
    "    collection_500.delete_many({})  # Clear any existing data\n",
    "    names_500 = [{\"name\": generate_random_name()} for _ in range(500)]\n",
    "    collection_500.insert_many(names_500)\n",
    "    print(\"Inserted 500 names into user_info_500.\")\n",
    "\n",
    "# Insertion function for 'user_info_5000'\n",
    "def insert_user_info_5000():\n",
    "    collection_5000.delete_many({})  # Clear any existing data\n",
    "    names_5000 = [{\"name\": generate_random_name()} for _ in range(5000)]\n",
    "    collection_5000.insert_many(names_5000)\n",
    "    print(\"Inserted 5000 names into user_info_5000.\")\n",
    "\n",
    "# inserting\n",
    "insert_user_info_50()\n",
    "insert_user_info_500()\n",
    "insert_user_info_5000()\n",
    "\n"
   ]
  },
  {
   "cell_type": "markdown",
   "metadata": {},
   "source": [
    "### Creating the target lists"
   ]
  },
  {
   "cell_type": "code",
   "execution_count": 8,
   "metadata": {},
   "outputs": [
    {
     "name": "stdout",
     "output_type": "stream",
     "text": [
      "Existing names in user_info_50: ['MVCBOH', 'TUCFJN', 'YXEVSQ', 'GCGYBK', 'WHNMZW', 'SXCNIC', 'EAXARH', 'QKHLPO', 'HAJWKZ', 'MXKAYA']\n",
      "Existing names in user_info_500: ['DICPQD', 'JCZWIL', 'NGVUUA', 'HSQXWT', 'NVTDPL', 'XJIENA', 'REUVRA', 'ATDZRR', 'URFCBF', 'VCFFAI']\n",
      "Existing names in user_info_5000: ['HONGAY', 'MFISWT', 'JOARHS', 'HLCAXO', 'FUMSXS', 'JHTAUO', 'UBMWSC', 'RFYDTJ', 'MCWBBF', 'NRPEAT']\n",
      "Target name list for user_info_50 (100 names): ['PZYYMU', 'NZZEZW', 'QKHLPO', 'NMGIXK', 'MVCBOH', 'ZEZJFP', 'MISFZT', 'ZGTZMU', 'BJOTRC', 'JUPYPE']...\n",
      "Target name list for user_info_500 (1000 names): ['LBGOPN', 'HIJCDO', 'DTDGWB', 'NTNHJX', 'CENFWD', 'TINLSJ', 'KQXXHP', 'IFKNPU', 'YITOCE', 'FNGSST']...\n",
      "Target name list for user_info_5000 (10000 names): ['VUNETW', 'KHNVXR', 'NKUSGF', 'EADBXK', 'XTACIR', 'DWIWGH', 'CCJTIX', 'SHKPTO', 'RDGUHZ', 'WFOGHE']...\n"
     ]
    }
   ],
   "source": [
    "# Step 2: Create the target name lists\n",
    "# Helper function to create target lists (existing + non-existing names)\n",
    "def create_target_name_list(collection_name, total_names):\n",
    "    collection = db[collection_name]\n",
    "    existing_names = [user[\"name\"] for user in collection.find()]\n",
    "    print(f\"Existing names in {collection_name}: {existing_names[:10]}\")  # Displaying first 10 names for inspection\n",
    "    \n",
    "    # Generate non-existing names\n",
    "    new_non_existing_names = set()\n",
    "    while len(new_non_existing_names) < total_names // 2:  # Half will be non-existing\n",
    "        new_name = generate_random_name()\n",
    "        if new_name not in existing_names:\n",
    "            new_non_existing_names.add(new_name)\n",
    "    \n",
    "    target_name_list = existing_names[:total_names // 2] + list(new_non_existing_names)\n",
    "    random.shuffle(target_name_list)  # Shuffle the list to mix existing and new names\n",
    "    return target_name_list\n",
    "\n",
    "# Creating target name lists\n",
    "target_name_list_50 = create_target_name_list('user_info_50', 100)\n",
    "target_name_list_500 = create_target_name_list('user_info_500', 1000)\n",
    "target_name_list_5000 = create_target_name_list('user_info_5000', 10000)\n",
    "\n",
    "# Verifying the lists\n",
    "print(f\"Target name list for user_info_50 (100 names): {target_name_list_50[:10]}...\")  # Displaying first 10 names for inspection\n",
    "print(f\"Target name list for user_info_500 (1000 names): {target_name_list_500[:10]}...\")\n",
    "print(f\"Target name list for user_info_5000 (10000 names): {target_name_list_5000[:10]}...\")"
   ]
  },
  {
   "cell_type": "markdown",
   "metadata": {},
   "source": [
    "## Classical Approach O(N)"
   ]
  },
  {
   "cell_type": "code",
   "execution_count": 9,
   "metadata": {},
   "outputs": [],
   "source": [
    "# Function for classical search algorithm (O(n) linear search)\n",
    "def classical_search(collection, target_name):\n",
    "    start_time = time.perf_counter()\n",
    "    found = False\n",
    "    for user in collection.find():\n",
    "        if user[\"name\"] == target_name:\n",
    "            found = True\n",
    "            break\n",
    "    end_time = time.perf_counter()\n",
    "    time_taken_us = (end_time - start_time) * 1_000_000  # Convert to microseconds\n",
    "    return found, time_taken_us\n",
    "\n",
    "\n",
    "# Insert search results into a collection\n",
    "def insert_search_results(collection_name, target_name, found, time_taken):\n",
    "    collection = db[collection_name]\n",
    "    \n",
    "    collection.insert_one({\n",
    "        'name': target_name,\n",
    "        'found': found,\n",
    "        'TimeTaken': time_taken  # Time in microseconds\n",
    "    })\n",
    "\n",
    "\n",
    "# Classical search for the target lists and store results\n",
    "def run_classical_search():\n",
    "    # For user_info_50 collection, using the existing target_name_list_50\n",
    "    classical_search_50.delete_many({})\n",
    "    for target_name in target_name_list_50:\n",
    "        found, time_taken = classical_search(collection_50, target_name)\n",
    "        insert_search_results('classical_search_50', target_name, found, time_taken)\n",
    "\n",
    "    # For user_info_500 collection, using the existing target_name_list_500\n",
    "    classical_search_500.delete_many({})\n",
    "    for target_name in target_name_list_500:\n",
    "        found, time_taken = classical_search(collection_500, target_name)\n",
    "        insert_search_results('classical_search_500', target_name, found, time_taken)\n",
    "\n",
    "    # For user_info_5000 collection, using the existing target_name_list_5000\n",
    "    classical_search_5000.delete_many({})\n",
    "    for target_name in target_name_list_5000:\n",
    "        found, time_taken = classical_search(collection_5000, target_name)\n",
    "        insert_search_results('classical_search_5000', target_name, found, time_taken)\n",
    "\n",
    "# Run the classical search and insert results\n",
    "run_classical_search()\n"
   ]
  },
  {
   "cell_type": "markdown",
   "metadata": {},
   "source": [
    "### Organizing the data"
   ]
  },
  {
   "cell_type": "code",
   "execution_count": 10,
   "metadata": {},
   "outputs": [],
   "source": [
    "# Function to retrieve data from a collection\n",
    "def get_search_data(collection_name):\n",
    "    collection = db[collection_name]\n",
    "    search_results = collection.find()  # Query all documents\n",
    "    return list(search_results)\n",
    "\n",
    "# Retrieve data for all three collections\n",
    "data_50 = get_search_data('classical_search_50')\n",
    "data_500 = get_search_data('classical_search_500')\n",
    "data_5000 = get_search_data('classical_search_5000')\n",
    "\n",
    "# Extract times and found status for plotting\n",
    "def extract_times_and_found_status(data):\n",
    "    times = []\n",
    "    found = []\n",
    "    for record in data:\n",
    "        times.append(record['TimeTaken'])  # Assuming field is named 'time_taken' in microseconds\n",
    "        found.append(record['found'])  # Assuming field is named 'found'\n",
    "    return times, found\n",
    "\n",
    "# Extract data for each collection\n",
    "times_50, found_50 = extract_times_and_found_status(data_50)\n",
    "times_500, found_500 = extract_times_and_found_status(data_500)\n",
    "times_5000, found_5000 = extract_times_and_found_status(data_5000)\n",
    "\n"
   ]
  },
  {
   "cell_type": "markdown",
   "metadata": {},
   "source": [
    "### Plotting the data"
   ]
  },
  {
   "cell_type": "code",
   "execution_count": 11,
   "metadata": {},
   "outputs": [
    {
     "data": {
      "image/png": "[encoded data removed]",
      "text/plain": [
       "<Figure size 1200x600 with 1 Axes>"
      ]
     },
     "metadata": {},
     "output_type": "display_data"
    }
   ],
   "source": [
    "# Function to create DataFrame for plotting\n",
    "def create_df_for_plot(times, found, collection_name):\n",
    "    df = pd.DataFrame({\n",
    "        'Time Taken (microseconds)': times,  # Show time in microseconds\n",
    "        'Found': found,\n",
    "        'Collection': [collection_name] * len(times)\n",
    "    })\n",
    "    return df\n",
    "\n",
    "# Create DataFrames for each collection\n",
    "df_50 = create_df_for_plot(times_50, found_50, '50 Names')\n",
    "df_500 = create_df_for_plot(times_500, found_500, '500 Names')\n",
    "df_5000 = create_df_for_plot(times_5000, found_5000, '5000 Names')\n",
    "\n",
    "# Combine DataFrames\n",
    "df_all = pd.concat([df_50, df_500, df_5000])\n",
    "\n",
    "# Plot using Seaborn\n",
    "# Plot with capped y-axis and IQR emphasis\n",
    "plt.figure(figsize=(12, 6))\n",
    "sns.boxplot(x='Collection', y='Time Taken (microseconds)', hue='Found', data=df_all, showfliers=False)\n",
    "plt.yscale('log')  # Apply logarithmic scale\n",
    "plt.title('Search Time for Classical Search (Log Scale)')\n",
    "plt.ylabel('Time Taken (log microseconds)')\n",
    "plt.show()\n",
    "\n",
    "\n"
   ]
  },
  {
   "cell_type": "markdown",
   "metadata": {},
   "source": [
    "### STATS"
   ]
  },
  {
   "cell_type": "code",
   "execution_count": 12,
   "metadata": {},
   "outputs": [
    {
     "name": "stdout",
     "output_type": "stream",
     "text": [
      "\n",
      "Statistics for user_info_50:\n",
      "Mean Time: 337.83918 µs\n",
      "Median Time: 245.45845 µs\n",
      "Standard Deviation: 599.19394 µs\n",
      "Min Time: 128.45895 µs\n",
      "Max Time: 5354.79118 µs\n",
      "IQR (Interquartile Range): 48.23931 µs\n",
      "\n",
      "Statistics for user_info_500:\n",
      "Mean Time: 796.98157 µs\n",
      "Median Time: 706.81248 µs\n",
      "Standard Deviation: 1177.88323 µs\n",
      "Min Time: 163.16702 µs\n",
      "Max Time: 31118.62508 µs\n",
      "IQR (Interquartile Range): 304.93789 µs\n",
      "\n",
      "Statistics for user_info_5000:\n",
      "Mean Time: 11197.24666 µs\n",
      "Median Time: 7913.70857 µs\n",
      "Standard Deviation: 9939.69425 µs\n",
      "Min Time: 281.79097 µs\n",
      "Max Time: 60773.83296 µs\n",
      "IQR (Interquartile Range): 2889.35396 µs\n",
      "\n",
      "P-Value for user_info_50: 0.91764\n",
      "P-Value for user_info_500: 0.00000\n",
      "P-Value for user_info_5000: 0.00000\n"
     ]
    }
   ],
   "source": [
    "# Function to calculate and print stats (now in microseconds)\n",
    "def print_stats(collection_name, df):\n",
    "    print(f\"\\nStatistics for {collection_name}:\")\n",
    "    mean = df['Time Taken (microseconds)'].mean()  # In microseconds\n",
    "    median = df['Time Taken (microseconds)'].median()\n",
    "    std_dev = df['Time Taken (microseconds)'].std()\n",
    "    min_val = df['Time Taken (microseconds)'].min()\n",
    "    max_val = df['Time Taken (microseconds)'].max()\n",
    "    iqr = df['Time Taken (microseconds)'].quantile(0.75) - df['Time Taken (microseconds)'].quantile(0.25)\n",
    "\n",
    "    print(f\"Mean Time: {mean:.5f} µs\")\n",
    "    print(f\"Median Time: {median:.5f} µs\")\n",
    "    print(f\"Standard Deviation: {std_dev:.5f} µs\")\n",
    "    print(f\"Min Time: {min_val:.5f} µs\")\n",
    "    print(f\"Max Time: {max_val:.5f} µs\")\n",
    "    print(f\"IQR (Interquartile Range): {iqr:.5f} µs\")\n",
    "\n",
    "\n",
    "# Mann-Whitney U test function to compare found vs not found (using microseconds)\n",
    "def mann_whitney_test(collection_df):\n",
    "    found_times = collection_df[collection_df['Found'] == True]['Time Taken (microseconds)']\n",
    "    not_found_times = collection_df[collection_df['Found'] == False]['Time Taken (microseconds)']\n",
    "    stat, p_value = mannwhitneyu(found_times, not_found_times, alternative='two-sided')\n",
    "    return p_value\n",
    "\n",
    "# Print stats for each collection\n",
    "print_stats('user_info_50', df_50)\n",
    "print_stats('user_info_500', df_500)\n",
    "print_stats('user_info_5000', df_5000)\n",
    "\n",
    "# Perform Mann-Whitney U test for each collection\n",
    "p_value_50 = mann_whitney_test(df_50)\n",
    "p_value_500 = mann_whitney_test(df_500)\n",
    "p_value_5000 = mann_whitney_test(df_5000)\n",
    "\n",
    "# Print p-values for each collection\n",
    "print(f\"\\nP-Value for user_info_50: {p_value_50:.5f}\")\n",
    "print(f\"P-Value for user_info_500: {p_value_500:.5f}\")\n",
    "print(f\"P-Value for user_info_5000: {p_value_5000:.5f}\")\n"
   ]
  },
  {
   "cell_type": "markdown",
   "metadata": {},
   "source": [
    "## Grovers Search below"
   ]
  },
  {
   "cell_type": "code",
   "execution_count": 9,
   "metadata": {},
   "outputs": [],
   "source": [
    "from qiskit import QuantumCircuit\n",
    "from qiskit.visualization import plot_histogram\n",
    "from qiskit_aer import AerSimulator\n",
    "from qiskit.circuit.library import MCXGate"
   ]
  },
  {
   "cell_type": "code",
   "execution_count": 15,
   "metadata": {},
   "outputs": [
    {
     "name": "stdout",
     "output_type": "stream",
     "text": [
      "Grover finished\n"
     ]
    }
   ],
   "source": [
    "\n",
    "def grover_search_algorithm(collection, target_name_list, grover_collection):\n",
    "    names = [user[\"name\"] for user in collection.find()]\n",
    "    # Create a mapping of the names to indices for quantum representation\n",
    "    name_to_index = {name: i for i, name in enumerate(names)}\n",
    "    grover_collection.delete_many({})\n",
    "\n",
    "    # Number of qubits needed is based on the number of possible names\n",
    "    n = len(names)  # number of names in the database\n",
    "    n_qubits = n.bit_length()  # number of qubits needed\n",
    "\n",
    "    # Grover's Oracle: Phase-flip (controlled-Z gate) for the target state\n",
    "    def grover_oracle(circuit, n_qubits, target_index):\n",
    "        \"\"\"Mark the state corresponding to the target index (the solution) with a phase flip.\"\"\"\n",
    "        # Apply X gates to flip the qubits based on the target index\n",
    "        for qubit in range(n_qubits):\n",
    "            if (target_index >> qubit) & 1:\n",
    "                circuit.x(qubit)\n",
    "\n",
    "        # Apply Hadamard to the last qubit (ancilla) before the multi-controlled Toffoli\n",
    "        circuit.h(n_qubits - 1)\n",
    "        \n",
    "        # Apply multi-controlled Toffoli gate (MCX) to flip the target state\n",
    "        # The MCXGate is an implementation for the multi-controlled X gate\n",
    "        circuit.mcx(list(range(n_qubits - 1)), n_qubits - 1)  # Multi-controlled Toffoli (MCX)\n",
    "\n",
    "        # Apply Hadamard to the last qubit (ancilla) after the multi-controlled Toffoli\n",
    "        circuit.h(n_qubits - 1)\n",
    "\n",
    "        # Revert the X gates to restore the original qubits state\n",
    "        for qubit in range(n_qubits):\n",
    "            if (target_index >> qubit) & 1:\n",
    "                circuit.x(qubit)\n",
    "\n",
    "    # Grover's Diffusion Operator: Inversion about the mean\n",
    "    def grover_diffusion(circuit, n_qubits):\n",
    "        \"\"\"Apply the diffusion operator.\"\"\"\n",
    "        # Apply Hadamard and X gates to all qubits\n",
    "        for qubit in range(n_qubits):\n",
    "            circuit.h(qubit)\n",
    "            circuit.x(qubit)\n",
    "\n",
    "        # Apply the multi-controlled Toffoli (inversion about the mean)\n",
    "        circuit.h(n_qubits - 1)\n",
    "        circuit.mcx(list(range(n_qubits - 1)), n_qubits - 1)\n",
    "        circuit.h(n_qubits - 1)\n",
    "\n",
    "        # Apply X and Hadamard gates to all qubits to complete the diffusion\n",
    "        for qubit in range(n_qubits):\n",
    "            circuit.x(qubit)\n",
    "            circuit.h(qubit)\n",
    "\n",
    "    # Function to insert search results into MongoDB\n",
    "    def insert_search_result(target_name, found, time_taken):\n",
    "        \"\"\"Insert the search result into the appropriate MongoDB collection\"\"\"\n",
    "        document = {\n",
    "            \"TargetName\": target_name,\n",
    "            \"Found\": found,\n",
    "            \"TimeTaken\": time_taken\n",
    "        }\n",
    "        \n",
    "        # Insert the document into the provided collection\n",
    "        grover_collection.insert_one(document)\n",
    "\n",
    "    # Grover's search algorithm with insertion into MongoDB\n",
    "    def grover_search_and_insert(names, target_name):\n",
    "        # Initialize the quantum circuit\n",
    "        n = len(names)\n",
    "        n_qubits = n.bit_length()  # Number of qubits needed for the database size\n",
    "        qc = QuantumCircuit(n_qubits, n_qubits)\n",
    "        \n",
    "        # Apply Hadamard to all qubits to create the superposition\n",
    "        qc.h(range(n_qubits))\n",
    "        \n",
    "        # Perform Grover's algorithm iterations\n",
    "        target_index = name_to_index.get(target_name, None)\n",
    "        \n",
    "        # Handle the case when the target name is not found\n",
    "        if target_index is None:\n",
    "            found = False\n",
    "        else:\n",
    "            # Apply Grover's Oracle and Diffusion operator\n",
    "            grover_oracle(qc, n_qubits, target_index)\n",
    "            grover_diffusion(qc, n_qubits)\n",
    "            found = True\n",
    "        \n",
    "        # Measure the qubits\n",
    "        qc.measure(range(n_qubits), range(n_qubits))\n",
    "        \n",
    "        # Use the Aer's qasm_simulator to simulate the result\n",
    "        simulator = AerSimulator()  # Using AerSimulator instead of Aer.get_backend\n",
    "        start_time = time.perf_counter()  # Start time for execution\n",
    "        result = simulator.run(qc, shots=1024).result()\n",
    "        elapsed_time_ms = (time.perf_counter() - start_time) * 1_000_000  # Time in microseconds\n",
    "        \n",
    "        # Display the results (showing only key output)\n",
    "        counts = result.get_counts(qc)\n",
    "        \n",
    "        # If the target was found, check if the corresponding binary index is in the results\n",
    "        if found:\n",
    "            binary_target = format(target_index, '0{}b'.format(n_qubits))\n",
    "            found_in_results = binary_target in counts\n",
    "        \n",
    "        # Insert the search result into the MongoDB collection\n",
    "        insert_search_result(target_name, found, elapsed_time_ms)\n",
    "\n",
    "    # Loop through the list of target names and perform Grover's search\n",
    "    for target_name in target_name_list:\n",
    "        grover_search_and_insert(names, target_name)\n",
    "\n",
    "# Perform Grover search for each collection with their respective target name lists\n",
    "grover_search_algorithm(collection_50, target_name_list_50, grover_search_50)\n",
    "grover_search_algorithm(collection_500, target_name_list_500, grover_search_500)\n",
    "grover_search_algorithm(collection_5000, target_name_list_5000, grover_search_5000)\n",
    "\n",
    "print(\"Grover finished\")"
   ]
  },
  {
   "cell_type": "markdown",
   "metadata": {},
   "source": [
    "### Organizing the data"
   ]
  },
  {
   "cell_type": "code",
   "execution_count": 11,
   "metadata": {},
   "outputs": [],
   "source": [
    "# Function to retrieve data from a collection\n",
    "def get_search_data(collection_name):\n",
    "    collection = db[collection_name]\n",
    "    search_results = collection.find()  # Query all documents\n",
    "    return list(search_results)\n",
    "\n",
    "# Retrieve data for the grover_search_50, grover_search_500, and grover_search_5000 collections\n",
    "data_grover_50 = get_search_data('grover_search_50')\n",
    "data_grover_500 = get_search_data('grover_search_500')\n",
    "data_grover_5000 = get_search_data('grover_search_5000')\n",
    "\n",
    "# Extract times and found status for plotting\n",
    "def extract_times_and_found_status(data):\n",
    "    times = []\n",
    "    found = []\n",
    "    for record in data:\n",
    "        times.append(record['TimeTaken'])  # Assuming field is named 'TimeTaken' in microseconds\n",
    "        found.append(record['Found'])  # Assuming field is named 'Found'\n",
    "    return times, found\n",
    "\n",
    "# Extract data for all three collections\n",
    "times_grover_50, found_grover_50 = extract_times_and_found_status(data_grover_50)\n",
    "times_grover_500, found_grover_500 = extract_times_and_found_status(data_grover_500)\n",
    "times_grover_5000, found_grover_5000 = extract_times_and_found_status(data_grover_5000)\n"
   ]
  },
  {
   "cell_type": "markdown",
   "metadata": {},
   "source": [
    "### Plotting the data"
   ]
  },
  {
   "cell_type": "code",
   "execution_count": 12,
   "metadata": {},
   "outputs": [
    {
     "data": {
      "image/png": "[encoded data removed]",
      "text/plain": [
       "<Figure size 1200x600 with 1 Axes>"
      ]
     },
     "metadata": {},
     "output_type": "display_data"
    }
   ],
   "source": [
    "# Function to create DataFrame for plotting\n",
    "def create_df_for_plot(times, found, collection_name):\n",
    "    df = pd.DataFrame({\n",
    "        'Time Taken (microseconds)': times,  # Show time in microseconds\n",
    "        'Found': found,\n",
    "        'Collection': [collection_name] * len(times)\n",
    "    })\n",
    "    return df\n",
    "\n",
    "# Create DataFrames for all collections\n",
    "df_grover_50 = create_df_for_plot(times_grover_50, found_grover_50, '50 Names')\n",
    "df_grover_500 = create_df_for_plot(times_grover_500, found_grover_500, '500 Names')\n",
    "df_grover_5000 = create_df_for_plot(times_grover_5000, found_grover_5000, '5000 Names')\n",
    "\n",
    "# Combine the DataFrames\n",
    "df_all = pd.concat([df_grover_50, df_grover_500, df_grover_5000], ignore_index=True)\n",
    "\n",
    "# Plot using Seaborn\n",
    "plt.figure(figsize=(12, 6))\n",
    "sns.boxplot(x='Collection', y='Time Taken (microseconds)', hue='Found', data=df_all, showfliers=False)\n",
    "plt.yscale('log')  # Apply logarithmic scale\n",
    "plt.title('Search Time for Grover\\'s Algorithm (Log Scale)')\n",
    "plt.ylabel('Time Taken (log microseconds)')\n",
    "plt.show()\n"
   ]
  },
  {
   "cell_type": "markdown",
   "metadata": {},
   "source": [
    "### Statistical information"
   ]
  },
  {
   "cell_type": "code",
   "execution_count": 13,
   "metadata": {},
   "outputs": [
    {
     "name": "stdout",
     "output_type": "stream",
     "text": [
      "\n",
      "Statistics for grover_search_50:\n",
      "Mean Time: 2266.77171 µs\n",
      "Median Time: 2108.43759 µs\n",
      "Standard Deviation: 1136.29776 µs\n",
      "Min Time: 1555.20788 µs\n",
      "Max Time: 11121.45907 µs\n",
      "IQR (Interquartile Range): 483.32312 µs\n",
      "\n",
      "Statistics for grover_search_500:\n",
      "Mean Time: 2900.92411 µs\n",
      "Median Time: 2859.56252 µs\n",
      "Standard Deviation: 300.16660 µs\n",
      "Min Time: 2340.24995 µs\n",
      "Max Time: 5399.29117 µs\n",
      "IQR (Interquartile Range): 331.63518 µs\n",
      "\n",
      "Statistics for grover_search_5000:\n",
      "Mean Time: 4626.11554 µs\n",
      "Median Time: 4558.66638 µs\n",
      "Standard Deviation: 1133.39188 µs\n",
      "Min Time: 3479.58296 µs\n",
      "Max Time: 59661.66593 µs\n",
      "IQR (Interquartile Range): 796.76002 µs\n",
      "\n",
      "P-Value for grover_search_50: 0.00000\n",
      "P-Value for grover_search_500: 0.00000\n",
      "P-Value for grover_search_5000: 0.00000\n"
     ]
    }
   ],
   "source": [
    "# Assuming df_grover_50, df_grover_500, and df_grover_5000 are already available from previous code\n",
    "\n",
    "# Function to calculate and print stats (now in microseconds)\n",
    "def print_stats(collection_name, df):\n",
    "    print(f\"\\nStatistics for {collection_name}:\")\n",
    "    mean = df['Time Taken (microseconds)'].mean()  # In microseconds\n",
    "    median = df['Time Taken (microseconds)'].median()\n",
    "    std_dev = df['Time Taken (microseconds)'].std()\n",
    "    min_val = df['Time Taken (microseconds)'].min()\n",
    "    max_val = df['Time Taken (microseconds)'].max()\n",
    "    iqr = df['Time Taken (microseconds)'].quantile(0.75) - df['Time Taken (microseconds)'].quantile(0.25)\n",
    "\n",
    "    print(f\"Mean Time: {mean:.5f} µs\")\n",
    "    print(f\"Median Time: {median:.5f} µs\")\n",
    "    print(f\"Standard Deviation: {std_dev:.5f} µs\")\n",
    "    print(f\"Min Time: {min_val:.5f} µs\")\n",
    "    print(f\"Max Time: {max_val:.5f} µs\")\n",
    "    print(f\"IQR (Interquartile Range): {iqr:.5f} µs\")\n",
    "\n",
    "\n",
    "# Mann-Whitney U test function to compare found vs not found (using microseconds)\n",
    "def mann_whitney_test(collection_df):\n",
    "    found_times = collection_df[collection_df['Found'] == True]['Time Taken (microseconds)']\n",
    "    not_found_times = collection_df[collection_df['Found'] == False]['Time Taken (microseconds)']\n",
    "    stat, p_value = mannwhitneyu(found_times, not_found_times, alternative='two-sided')\n",
    "    return p_value\n",
    "\n",
    "# Print stats for grover_search_50, grover_search_500, and grover_search_5000 collections\n",
    "print_stats('grover_search_50', df_grover_50)\n",
    "print_stats('grover_search_500', df_grover_500)\n",
    "print_stats('grover_search_5000', df_grover_5000)\n",
    "\n",
    "# Perform Mann-Whitney U test for each collection\n",
    "p_value_50 = mann_whitney_test(df_grover_50)\n",
    "p_value_500 = mann_whitney_test(df_grover_500)\n",
    "p_value_5000 = mann_whitney_test(df_grover_5000)\n",
    "\n",
    "# Print p-values for each collection\n",
    "print(f\"\\nP-Value for grover_search_50: {p_value_50:.5f}\")\n",
    "print(f\"P-Value for grover_search_500: {p_value_500:.5f}\")\n",
    "print(f\"P-Value for grover_search_5000: {p_value_5000:.5f}\")\n"
   ]
  },
  {
   "cell_type": "markdown",
   "metadata": {},
   "source": [
    "## Comparison between Classical approach vs Grovers Search"
   ]
  },
  {
   "cell_type": "code",
   "execution_count": 14,
   "metadata": {},
   "outputs": [
    {
     "name": "stdout",
     "output_type": "stream",
     "text": [
      "Average time for Classical Search: 10162.45 microseconds\n",
      "Average time for Grover's Algorithm: 4449.44 microseconds\n"
     ]
    },
    {
     "data": {
      "image/png": "[encoded data removed]",
      "text/plain": [
       "<Figure size 1000x600 with 1 Axes>"
      ]
     },
     "metadata": {},
     "output_type": "display_data"
    }
   ],
   "source": [
    "# Function to retrieve 'TimeTaken' values from the MongoDB collection\n",
    "def get_search_times(collection_name):\n",
    "    collection = db[collection_name]\n",
    "    search_results = collection.find()  # Retrieve all documents from the collection\n",
    "    # Use 'TimeTaken' or another field name that you find in the document structure\n",
    "    times = [record.get('TimeTaken', 0) for record in search_results]  # Use 0 if 'TimeTaken' is missing\n",
    "    return times\n",
    "\n",
    "# Retrieve search times from the collections\n",
    "classical_times_50 = get_search_times('classical_search_50')\n",
    "classical_times_500 = get_search_times('classical_search_500')\n",
    "classical_times_5000 = get_search_times('classical_search_5000')\n",
    "\n",
    "grover_times_50 = get_search_times('grover_search_50')\n",
    "grover_times_500 = get_search_times('grover_search_500')\n",
    "grover_times_5000 = get_search_times('grover_search_5000')\n",
    "\n",
    "# Combine the search times into one list\n",
    "classical_times = classical_times_50 + classical_times_500 + classical_times_5000\n",
    "grover_times = grover_times_50 + grover_times_500 + grover_times_5000\n",
    "\n",
    "# Create a DataFrame for both classical and Grover search methods\n",
    "df_comparison = pd.DataFrame({\n",
    "    'Search Time (microseconds)': classical_times + grover_times,\n",
    "    'Method': ['Classical'] * len(classical_times) + ['Grover'] * len(grover_times)\n",
    "})\n",
    "\n",
    "# Calculate the average time for each method\n",
    "average_classical_time = sum(classical_times) / len(classical_times)\n",
    "average_grover_time = sum(grover_times) / len(grover_times)\n",
    "\n",
    "# Print the average times for comparison\n",
    "print(f\"Average time for Classical Search: {average_classical_time:.2f} microseconds\")\n",
    "print(f\"Average time for Grover's Algorithm: {average_grover_time:.2f} microseconds\")\n",
    "\n",
    "# Plot comparison with boxplot\n",
    "plt.figure(figsize=(10, 6))\n",
    "sns.boxplot(x='Method', y='Search Time (microseconds)', data=df_comparison)\n",
    "plt.title('Comparison of Search Times: Classical vs. Grover\\'s Algorithm')\n",
    "plt.ylabel('Search Time (microseconds)')\n",
    "plt.show()\n"
   ]
  },
  {
   "cell_type": "code",
   "execution_count": null,
   "metadata": {},
   "outputs": [],
   "source": []
  }
 ],
 "metadata": {
  "kernelspec": {
   "display_name": "venv",
   "language": "python",
   "name": "python3"
  },
  "language_info": {
   "codemirror_mode": {
    "name": "ipython",
    "version": 3
   },
   "file_extension": ".py",
   "mimetype": "text/x-python",
   "name": "python",
   "nbconvert_exporter": "python",
   "pygments_lexer": "ipython3",
   "version": "3.11.3"
  }
 },
 "nbformat": 4,
 "nbformat_minor": 2
}
